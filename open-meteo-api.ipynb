{
 "cells": [
  {
   "cell_type": "code",
   "execution_count": 1,
   "id": "9a4da841-4864-41b5-ba5a-624ffdfb0b1d",
   "metadata": {
    "tags": []
   },
   "outputs": [],
   "source": [
    "# pip install openmeteo-requests\n",
    "# pip install requests-cache retry-requests numpy pandas"
   ]
  },
  {
   "cell_type": "code",
   "execution_count": 8,
   "id": "3e58add0-dc43-4ee2-8596-f6a1ca03c3d2",
   "metadata": {
    "tags": []
   },
   "outputs": [
    {
     "name": "stdout",
     "output_type": "stream",
     "text": [
      "Coordinates 48.86000061035156°E 2.3399996757507324°N\n",
      "Elevation 43.0 m asl\n",
      "Timezone b'Europe/Paris' b'CET'\n",
      "Timezone difference to GMT+0 3600 s\n",
      "Current time 1705667400\n",
      "Current relative_humidity_2m 77.0\n",
      "Current apparent_temperature -1.0418787002563477\n",
      "Current weather_code 0.0\n",
      "Current wind_speed_10m 3.8939952850341797\n"
     ]
    }
   ],
   "source": [
    "import openmeteo_requests\n",
    "\n",
    "import requests_cache\n",
    "import pandas as pd\n",
    "from retry_requests import retry\n",
    "\n",
    "# Setup the Open-Meteo API client with cache and retry on error\n",
    "cache_session = requests_cache.CachedSession('.cache', expire_after = 3600)\n",
    "retry_session = retry(cache_session, retries = 5, backoff_factor = 0.2)\n",
    "openmeteo = openmeteo_requests.Client(session = retry_session)\n",
    "\n",
    "# Make sure all required weather variables are listed here\n",
    "# The order of variables in hourly or daily is important to assign them correctly below\n",
    "url = \"https://api.open-meteo.com/v1/forecast\"\n",
    "params = {\n",
    "\t\"latitude\": 48.8534,\n",
    "\t\"longitude\": 2.3488,\n",
    "\t\"current\": [\"relative_humidity_2m\", \"apparent_temperature\", \"weather_code\", \"wind_speed_10m\"],\n",
    "\t\"timezone\": \"auto\"\n",
    "}\n",
    "responses = openmeteo.weather_api(url, params=params)\n",
    "\n",
    "# Process first location. Add a for-loop for multiple locations or weather models\n",
    "response = responses[0]\n",
    "print(f\"Coordinates {response.Latitude()}°E {response.Longitude()}°N\")\n",
    "print(f\"Elevation {response.Elevation()} m asl\")\n",
    "print(f\"Timezone {response.Timezone()} {response.TimezoneAbbreviation()}\")\n",
    "print(f\"Timezone difference to GMT+0 {response.UtcOffsetSeconds()} s\")\n",
    "\n",
    "# Current values. The order of variables needs to be the same as requested.\n",
    "current = response.Current()\n",
    "current_relative_humidity_2m = current.Variables(0).Value()\n",
    "current_apparent_temperature = current.Variables(1).Value()\n",
    "current_weather_code = current.Variables(2).Value()\n",
    "current_wind_speed_10m = current.Variables(3).Value()\n",
    "\n",
    "print(f\"Current time {current.Time()}\")\n",
    "print(f\"Current relative_humidity_2m {current_relative_humidity_2m}\")\n",
    "print(f\"Current apparent_temperature {current_apparent_temperature}\")\n",
    "print(f\"Current weather_code {current_weather_code}\")\n",
    "print(f\"Current wind_speed_10m {current_wind_speed_10m}\")\n"
   ]
  },
  {
   "cell_type": "code",
   "execution_count": null,
   "id": "9d3e7ba6-31c7-4c95-8ccd-54d841dee9d0",
   "metadata": {},
   "outputs": [],
   "source": []
  }
 ],
 "metadata": {
  "kernelspec": {
   "display_name": "Python 3 (ipykernel)",
   "language": "python",
   "name": "python3"
  },
  "language_info": {
   "codemirror_mode": {
    "name": "ipython",
    "version": 3
   },
   "file_extension": ".py",
   "mimetype": "text/x-python",
   "name": "python",
   "nbconvert_exporter": "python",
   "pygments_lexer": "ipython3",
   "version": "3.11.4"
  }
 },
 "nbformat": 4,
 "nbformat_minor": 5
}
